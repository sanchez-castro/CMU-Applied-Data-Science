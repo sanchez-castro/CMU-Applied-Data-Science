{
 "cells": [
  {
   "cell_type": "code",
   "execution_count": null,
   "metadata": {
    "collapsed": true
   },
   "outputs": [],
   "source": []
  },
  {
   "cell_type": "code",
   "execution_count": null,
   "metadata": {
    "collapsed": true
   },
   "outputs": [],
   "source": [
    "import re\n",
    "import sys\n",
    "\n",
    "args = sys.argv\n",
    "\n",
    "def isMed(line):\n",
    "    #tokens: mg, mcg, ui, gm, ml, iu\n",
    "    exp = r'([^a-zA-z]+mg[^a-zA-z]+|[^a-zA-z]+mcg[^a-zA-z]+|[^a-zA-z]+ui[^a-zA-z]+|[^a-zA-z]+gm[^a-zA-z]+|[^a-zA-z]+ml[^a-zA-z]+|[^a-zA-z]+iu[^a-zA-z]+|[^a-zA-z]+mg$|[^a-zA-z]+mcg$|[^a-zA-z]+ui$|[^a-zA-z]+gm$|[^a-zA-z]+ml$|[^a-zA-z]+iu$)'\t\n",
    "    return not re.search(exp, line, re.I) is  None \n",
    "\n",
    "if len(args) < 2:\n",
    "    print 'Please pass the name of the input file!!!'\n",
    "else:\n",
    "    inFile = args[1]\n",
    "    medFileName = '%s_meds.txt' % inFile.split('.')[0] \n",
    "    nonMedFileName = '%s_nonMeds.txt' % inFile.split('.')[0]\n",
    "    medCount = 0\n",
    "    nonCount = 0\n",
    "    txt = open(inFile, 'r')\n",
    "    outMed = open(medFileName, 'w')\n",
    "    outNon = open(nonMedFileName, 'w')\n",
    "    for line in txt:\n",
    "        if isMed(line):\n",
    "            outMed.write(line)\n",
    "            medCountCount += 1\t\t\n",
    "        else:\n",
    "            outNon.write(line)\n",
    "            nonCount += 1\n",
    "\n",
    "    txt.close()\n",
    "    outMed.close()\n",
    "    outNon.close()\n",
    "    \n",
    "    print('There were %d total files processed. %d thought meds and %d found to be non-meds.' % (medCount + nonCount, medCount, nonCount))"
   ]
  },
  {
   "cell_type": "code",
   "execution_count": 1,
   "metadata": {
    "collapsed": false
   },
   "outputs": [
    {
     "ename": "FileNotFoundError",
     "evalue": "[Errno 2] No such file or directory: 'brant.txt'",
     "output_type": "error",
     "traceback": [
      "\u001b[1;31m---------------------------------------------------------------------------\u001b[0m",
      "\u001b[1;31mFileNotFoundError\u001b[0m                         Traceback (most recent call last)",
      "\u001b[1;32m<ipython-input-1-8c2a74188b80>\u001b[0m in \u001b[0;36m<module>\u001b[1;34m()\u001b[0m\n\u001b[0;32m      1\u001b[0m \u001b[0md_brand\u001b[0m\u001b[1;33m=\u001b[0m\u001b[1;33m[\u001b[0m\u001b[1;33m]\u001b[0m\u001b[1;33m\u001b[0m\u001b[0m\n\u001b[1;32m----> 2\u001b[1;33m \u001b[1;32mfor\u001b[0m \u001b[0mline\u001b[0m \u001b[1;32min\u001b[0m \u001b[0mopen\u001b[0m \u001b[1;33m(\u001b[0m\u001b[1;34m'brant.txt'\u001b[0m\u001b[1;33m)\u001b[0m\u001b[1;33m:\u001b[0m\u001b[1;33m\u001b[0m\u001b[0m\n\u001b[0m\u001b[0;32m      3\u001b[0m     \u001b[0mcode\u001b[0m\u001b[1;33m,\u001b[0m \u001b[0mbrand\u001b[0m\u001b[1;33m,\u001b[0m \u001b[1;33m*\u001b[0m\u001b[0mdesc\u001b[0m\u001b[1;33m=\u001b[0m\u001b[0mline\u001b[0m\u001b[1;33m.\u001b[0m\u001b[0msplit\u001b[0m\u001b[1;33m(\u001b[0m\u001b[1;33m)\u001b[0m\u001b[1;33m\u001b[0m\u001b[0m\n\u001b[0;32m      4\u001b[0m     \u001b[0md_brand\u001b[0m\u001b[1;33m.\u001b[0m\u001b[0mappend\u001b[0m\u001b[1;33m(\u001b[0m\u001b[0mbrand\u001b[0m\u001b[1;33m)\u001b[0m\u001b[1;33m\u001b[0m\u001b[0m\n",
      "\u001b[1;31mFileNotFoundError\u001b[0m: [Errno 2] No such file or directory: 'brant.txt'"
     ]
    }
   ],
   "source": [
    "d_brand=[]\n",
    "for line in open ('brand.txt'):\n",
    "    code, brand, *desc=line.split()\n",
    "    d_brand.append(brand)"
   ]
  },
  {
   "cell_type": "code",
   "execution_count": null,
   "metadata": {
    "collapsed": true
   },
   "outputs": [],
   "source": [
    "d_gen=[]\n",
    "for line in open ('gen.txt'):\n",
    "    code, gen, *desc=line.split()\n",
    "    dgen.append(gen)"
   ]
  },
  {
   "cell_type": "code",
   "execution_count": null,
   "metadata": {
    "collapsed": true
   },
   "outputs": [],
   "source": [
    "chg=[]\n",
    "for line in open ('ameerchgdesc.tab'):\n",
    "    code2, first, *desc=line.split()\n",
    "    chg.append(first)"
   ]
  },
  {
   "cell_type": "code",
   "execution_count": null,
   "metadata": {
    "collapsed": true
   },
   "outputs": [],
   "source": [
    "drugD={}\n",
    "for line in open ('ameerchgdesc.tab'):\n",
    "    code, first in d_brand or first in d_gen:\n",
    "        drugD[code]= [first]"
   ]
  }
 ],
 "metadata": {
  "kernelspec": {
   "display_name": "Python 3",
   "language": "python",
   "name": "python3"
  },
  "language_info": {
   "codemirror_mode": {
    "name": "ipython",
    "version": 3
   },
   "file_extension": ".py",
   "mimetype": "text/x-python",
   "name": "python",
   "nbconvert_exporter": "python",
   "pygments_lexer": "ipython3",
   "version": "3.4.3"
  }
 },
 "nbformat": 4,
 "nbformat_minor": 0
}
